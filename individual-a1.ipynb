{
 "cells": [
  {
   "cell_type": "markdown",
   "id": "267f6987-9085-4c6f-bffb-049aa66a1a94",
   "metadata": {},
   "source": [
    "# Individual Assignment 1 (Deliverable 1) - Group 15\n",
    "## Data\n",
    "The dataset contains information about a sample of self-identifying females of $21$ years or older from the Akimel O'odhamgroup of Native Americans, also referred to as Pima (Wikipedia contributors, $2023$). There are a total of $768$ unique observations and nine different variables. The variables consist of several diagnostic measurements aimed at predicting the occurrence of diabetes in a patient. \n",
    "\n",
    "| Variable                 | Description  |\n",
    "|------------------------|------------|\n",
    "| `Pregnancies`              | Number of pregnancies so far  |\n",
    "| `Glucose`                  | Blood glucose level           |\n",
    "| `BloodPressure`            | Measurement of blood pressure |\n",
    "| `SkinThickness`            | Thickness of the skin         |\n",
    "| `Insulin`                  | Blood insulin level           |\n",
    "| `BMI`                      | Body mass index               |\n",
    "| `DiabetesPedigreeFunction` | Diabetes likelihood depending on the patient's age and his/her diabetic family history  |\n",
    "| `Age`                      | Age of the patient (in years)       |\n",
    "| `Outcome`                  | A binary variable determining if the patient has diabetes.<ul><li>`1` if patient has diabetes<li>`0` if patient does not have diabetes</li></ul>       |\n",
    "\n",
    "<center><sub>Table: Description of the variables</sub></center>\n",
    "\n",
    "Out of all the nine variables, there are eight independent explanatory variables and one response variable, `Outcome`, which depends on the explanatory variables. However, it is not known how the `Outcome` for each observation was determined. All the independent variables are self-explanatory, except the `DiabetesPedigreeFunction`. It is a function that calculates the likelihood of diabetes based on factors such as the patient's age, the presence of diabetes in close family members, and the family's history of diabetes. Higher scores typically indicate a greater likelihood of developing diabetes due to a stronger genetic predisposition (Das et al., 2022).   \n",
    "\n",
    "The dataset was downloaded from Kaggle, while it came originally from the National Institute of Diabetes and Digestive and Kidney Diseases. It appears to have been processed as it has been mentioned that all the observations in this dataset were selected based on certain constraints from a larger database. "
   ]
  },
  {
   "cell_type": "markdown",
   "id": "b93b0d51-337a-4bc1-a8d5-bd2f0b843748",
   "metadata": {},
   "source": [
    "## Question \n",
    "Drawing from the information provided in the dataset, I have formulated the following question:\n",
    "> *\"Is there a statistically significant association between body mass index and diabetes pedigree function in self-identifying females 21 years or older from the Pima group of Native Americans? If yes, then can these two factors serve as valuable predictors of the likelihood of diabetes among these women?\"*\n",
    "\n",
    "In this question, `BMI` and `DiabetesPedigreeFunction` columns of the dataset serve as the explanatory variables. `BMI` reflects an individual's physical health status while `DiabetesPedigreeFunction` quantifies their genetic predisposition to diabetes. `BMI` and `DiabetesPedigreeFunction` are both continuous variables, allowing for straightforward exploration of their relationship using a linear model. Then, we can determine the nature of the relationship between these variables by conducting statistical analysis. This part of the question is focused on ***inference***.\n",
    "\n",
    "The second part of the question aims to assess whether `BMI` and the `DiabetesPedigreeFunction` can serve as valuable predictors of the likelihood of diabetes, i.e., `Outcome`, in the population of interest. Since the response variable `Outcome` is a binary variable, building a predictive model with a classifier based on these explanatory variables can be useful in estimating diabetes risk. This part of the question is focused on ***prediction***.\n",
    "\n",
    "Thus, overall, this question combines both *inference* and *prediction* to gain insights into the relationship between BMI and diabetes pedigree function and their impact on diabetes likelihood in this specific population.\n",
    "\n",
    "## References\n",
    "\n",
    "Das, M., Bhattacharyya, G., Gong, R., Misra, R., Medda, S. K., Banik, S., & Das, R. N. (2022). Determinants of Gestational Diabetes pedigree function for PIMA Indian females. Internal Medicine, 6(1), 9–13. https://doi.org/10.17140/imoj-6-121 \n",
    "\n",
    "Wikipedia contributors. (2023). Akimel O’Odham. Wikipedia. https://en.wikipedia.org/wiki/Akimel_O%27odham\n",
    "\n",
    "Predict diabetes. (2022, November 9). Kaggle. https://www.kaggle.com/datasets/whenamancodes/predict-diabities/data"
   ]
  },
  {
   "cell_type": "code",
   "execution_count": null,
   "id": "d529f1fd-f109-4d88-ac63-39889d722904",
   "metadata": {},
   "outputs": [],
   "source": []
  }
 ],
 "metadata": {
  "kernelspec": {
   "display_name": "R",
   "language": "R",
   "name": "ir"
  },
  "language_info": {
   "codemirror_mode": "r",
   "file_extension": ".r",
   "mimetype": "text/x-r-source",
   "name": "R",
   "pygments_lexer": "r",
   "version": "4.2.3"
  }
 },
 "nbformat": 4,
 "nbformat_minor": 5
}
