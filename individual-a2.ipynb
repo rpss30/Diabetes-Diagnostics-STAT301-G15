{
 "cells": [
  {
   "cell_type": "markdown",
   "id": "3a17c758-2f40-4905-9b0d-10fe0b8e01c5",
   "metadata": {},
   "source": [
    "# Individual Assignment 2 (Deliverable 2) - Group 15\n",
    "As a reminder, we are trying to answer the following question:\n",
    "> *\"Is there a statistically significant association between body mass index and diabetes pedigree function in self-identifying females 21 years or older from the Pima group of Native Americans? If yes, then can these two factors serve as valuable predictors of the likelihood of diabetes among these women?\"*\n",
    "\n",
    "Now we will read and analyze the dataset "
   ]
  },
  {
   "cell_type": "code",
   "execution_count": null,
   "id": "fd286a05-6993-479d-9b72-f28b972fa82d",
   "metadata": {},
   "outputs": [],
   "source": []
  }
 ],
 "metadata": {
  "kernelspec": {
   "display_name": "R",
   "language": "R",
   "name": "ir"
  },
  "language_info": {
   "codemirror_mode": "r",
   "file_extension": ".r",
   "mimetype": "text/x-r-source",
   "name": "R",
   "pygments_lexer": "r",
   "version": "4.2.3"
  }
 },
 "nbformat": 4,
 "nbformat_minor": 5
}
